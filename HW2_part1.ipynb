{
  "cells": [
    {
      "cell_type": "markdown",
      "id": "approved-psychology",
      "metadata": {
        "id": "approved-psychology"
      },
      "source": [
        "# Home Assignment No. 2 - part one\n",
        "\n",
        "To solve this task, you will write a lot of code to try several machine learning methods for classification and regression.\n",
        "* You are **HIGHLY RECOMMENDED** to read relevant documentation, e.g. for [python](https://docs.python.org/3/), [numpy](https://docs.scipy.org/doc/numpy/reference/), [matlpotlib](https://matplotlib.org/) and [sklearn](https://scikit-learn.org/stable/). Also remember that seminars, lecture slides, [Google](http://google.com) and [StackOverflow](https://stackoverflow.com/) are your close friends during this course (and, probably, whole life?).\n",
        "\n",
        "* If you want an easy life, you have to use **BUILT-IN METHODS** of `sklearn` library instead of writing tons of your own code. There exists a class/method for almost everything you can imagine (related to this homework).\n",
        "\n",
        "* You have to write **CODE** directly inside specified places marked by comments: **BEGIN/END Solution**. Do not create new cells.\n",
        "\n",
        "* In some problems you are asked to provide a short discussion of the results. For that find the specific place marked via **Your text answer: \\<write your answer\\>**.\n",
        "\n",
        "* For every separate problem or subproblem (if specified) you can get only 0 points or maximal points for this problem. There are **NO INTERMEDIATE scores**. So make sure that you did everything required in the task.\n",
        "\n",
        "* Your **SOLUTION** notebook **MUST BE REPRODUCIBLE**, i.e., if the reviewer decides to restart the notebook and run all cells, after all the computation he will obtain exactly the same solution (with all the corresponding plots) as in your uploaded notebook. For this purpose, we suggest fixing random `seed` or (better) define `random_state=` inside every algorithm that uses some pseudorandomness.\n",
        "\n",
        "* Your code must be clear to the reviewer. For this purpose, try to include necessary comments inside the code. But remember: **GOOD CODE MUST BE SELF-EXPLANATORY** without any additional comments.\n",
        "\n",
        "* Many `sklearn` algorithms support multithreading (Ensemble Methods, Cross-Validation, etc.). Check if the particular algorithm has `n_jobs` parameters and set it to `-1` to use all the cores.\n"
      ]
    },
    {
      "cell_type": "code",
      "execution_count": null,
      "id": "cooperative-spokesman",
      "metadata": {
        "id": "cooperative-spokesman",
        "colab": {
          "base_uri": "https://localhost:8080/"
        },
        "outputId": "e9b3a9d4-f878-4ac2-883b-26cee209a097"
      },
      "outputs": [
        {
          "output_type": "stream",
          "name": "stdout",
          "text": [
            "Drive already mounted at /content/drive; to attempt to forcibly remount, call drive.mount(\"/content/drive\", force_remount=True).\n"
          ]
        }
      ],
      "source": [
        "import numpy as np\n",
        "import sklearn\n",
        "from sklearn.model_selection import train_test_split\n",
        "import pandas as pd\n",
        "import matplotlib.pyplot as plt\n",
        "from sklearn.model_selection import cross_val_score\n",
        "from sklearn.ensemble import RandomForestRegressor, ExtraTreesClassifier\n",
        "from sklearn.metrics import mean_squared_log_error as msle\n",
        "from sklearn.model_selection import KFold\n",
        "from sklearn.linear_model import LinearRegression,  Ridge\n",
        "from sklearn.tree import DecisionTreeRegressor\n",
        "from sklearn.linear_model import LogisticRegression\n",
        "from sklearn.multiclass import OneVsOneClassifier as OVO, OneVsRestClassifier as OVR\n",
        "from sklearn.neighbors import KNeighborsClassifier\n",
        "from sklearn.tree import DecisionTreeClassifier\n",
        "from sklearn.svm import SVC\n",
        "import xgboost as xgb\n",
        "import time\n",
        "from sklearn.metrics import accuracy_score\n",
        "from sklearn.ensemble import RandomForestClassifier, AdaBoostClassifier\n",
        "from IPython.display import display\n",
        "from sklearn.naive_bayes import GaussianNB\n",
        "# from google.colab import drive\n",
        "# drive.mount('/content/drive')\n",
        "# for google drive\n",
        "%matplotlib inline"
      ]
    },
    {
      "cell_type": "code",
      "execution_count": null,
      "id": "noted-bridal",
      "metadata": {
        "id": "noted-bridal"
      },
      "outputs": [],
      "source": [
        "import warnings\n",
        "warnings.filterwarnings(\"ignore\")"
      ]
    },
    {
      "cell_type": "markdown",
      "id": "guilty-contamination",
      "metadata": {
        "id": "guilty-contamination"
      },
      "source": [
        "## Task 1. Model and feature selection problem (3 points)\n",
        "\n",
        "Your goal in this task is to predict the price (```price_doc```) given some characteristics of a house. In order to do that, you will demonstrate your abilities in data preprocessing, finding feature importances, applying different ML models."
      ]
    },
    {
      "cell_type": "markdown",
      "id": "friendly-review",
      "metadata": {
        "id": "friendly-review"
      },
      "source": [
        "### Subproblem 1.1. Data preprocessing and feauture importances (1 point)\n",
        "\n",
        "The goal of this subproblem is to prepare the data for further usage. Complete all of the following subtasks:"
      ]
    },
    {
      "cell_type": "markdown",
      "id": "rational-reggae",
      "metadata": {
        "id": "rational-reggae"
      },
      "source": [
        "**1.1.1) load the dataset**"
      ]
    },
    {
      "cell_type": "code",
      "execution_count": null,
      "id": "nutritional-phoenix",
      "metadata": {
        "id": "nutritional-phoenix"
      },
      "outputs": [],
      "source": [
        "### BEGIN Solution (do not delete this comment)\n",
        "df = pd.read_csv('/content/drive/MyDrive/HW2_v1.0/data_fs.csv')\n",
        "### END Solution (do not delete this comment)"
      ]
    },
    {
      "cell_type": "markdown",
      "id": "objective-working",
      "metadata": {
        "id": "objective-working"
      },
      "source": [
        "**1.1.2) preprocess the dataset by dropping the ```timestamp``` feature, filling ```NaN```s with 0, converting the categorical variables into dummy variables**"
      ]
    },
    {
      "cell_type": "code",
      "execution_count": null,
      "id": "another-keyboard",
      "metadata": {
        "id": "another-keyboard"
      },
      "outputs": [],
      "source": [
        "### BEGIN Solution (do not delete this comment)\n",
        "df.drop('timestamp', 1, inplace=True, errors='ignore')\n",
        "df.fillna(0, inplace=True)\n",
        "cat_cols = df.select_dtypes(include='object').columns\n",
        "df = pd.get_dummies(df, columns = cat_cols)\n",
        "### END Solution (do not delete this comment)"
      ]
    },
    {
      "cell_type": "markdown",
      "id": "dress-shanghai",
      "metadata": {
        "id": "dress-shanghai"
      },
      "source": [
        "**1.1.3) define ```x_train```, ```x_test```, ```y_train```, ```y_test```. The train-test split should be 70:30**\n"
      ]
    },
    {
      "cell_type": "code",
      "execution_count": null,
      "id": "outdoor-runner",
      "metadata": {
        "id": "outdoor-runner"
      },
      "outputs": [],
      "source": [
        "### BEGIN Solution (do not delete this comment)\n",
        "X_train, X_test, y_train, y_test = train_test_split(df.drop('price_doc',1), df['price_doc'], train_size=0.7)\n",
        "### END Solution (do not delete this comment)"
      ]
    },
    {
      "cell_type": "markdown",
      "id": "engaging-ready",
      "metadata": {
        "id": "engaging-ready"
      },
      "source": [
        "\n",
        "**1.1.4) plot the histogram of y values. Note that the mean of these values is very high and the distribution of the values is far from normal. Create ```y_train_log``` and ```y_test_log``` by applying $log_{y}$. Now plot the new histogram of the obtained values. You should use these log values for the next subtasks.**   "
      ]
    },
    {
      "cell_type": "code",
      "execution_count": null,
      "id": "inclusive-outreach",
      "metadata": {
        "colab": {
          "base_uri": "https://localhost:8080/",
          "height": 558
        },
        "id": "inclusive-outreach",
        "outputId": "478cc07e-8c5d-4a7b-b7f1-9081157cc54a"
      },
      "outputs": [
        {
          "output_type": "display_data",
          "data": {
            "image/png": "[encoded data removed]",
            "text/plain": [
              "<Figure size 432x288 with 1 Axes>"
            ]
          },
          "metadata": {
            "needs_background": "light"
          }
        },
        {
          "output_type": "display_data",
          "data": {
            "image/png": "[encoded data removed]",
            "text/plain": [
              "<Figure size 432x288 with 1 Axes>"
            ]
          },
          "metadata": {
            "needs_background": "light"
          }
        }
      ],
      "source": [
        "### BEGIN Solution (do not delete this comment)\n",
        "df['price_doc'].plot(kind='hist', bins=100, title='price_doc', grid=True)\n",
        "plt.show()\n",
        "np.log(df['price_doc']).plot(kind='hist',bins=100,title='price_doc',grid=True)\n",
        "plt.show()\n",
        "y_train_log = np.log(y_train)\n",
        "y_test_log = np.log(y_test)\n",
        "### END Solution (do not delete this comment)"
      ]
    },
    {
      "cell_type": "markdown",
      "id": "noticed-drunk",
      "metadata": {
        "id": "noticed-drunk"
      },
      "source": [
        "**1.1.5) print the number of features in the created ```x_train``` and ```x_test``` datasets. Answer the question: do you think all of these features are relevant for the adequate price prediction?**\n"
      ]
    },
    {
      "cell_type": "code",
      "execution_count": null,
      "id": "strategic-spending",
      "metadata": {
        "colab": {
          "base_uri": "https://localhost:8080/"
        },
        "id": "strategic-spending",
        "outputId": "76b6da61-68d8-4a8d-c643-bb9dbf327b4a"
      },
      "outputs": [
        {
          "output_type": "stream",
          "name": "stdout",
          "text": [
            "560\n",
            "560\n"
          ]
        }
      ],
      "source": [
        "### BEGIN Solution (do not delete this comment)\n",
        "print(X_train.shape[1])\n",
        "print(X_test.shape[1])\n",
        "### END Solution (do not delete this comment)"
      ]
    },
    {
      "cell_type": "markdown",
      "id": "restricted-anchor",
      "metadata": {
        "id": "restricted-anchor"
      },
      "source": [
        "**Your text answer (do not delete this comment)**:\n",
        "\n",
        "Number of features is too large because of one-hot encoding. Not all the features would be useful in price predicting, i think that we will use less  then 10% of it."
      ]
    },
    {
      "cell_type": "markdown",
      "id": "endangered-mineral",
      "metadata": {
        "id": "endangered-mineral"
      },
      "source": [
        "**1.1.6) use random forest to find the importance of the features. Plot the histogram of the importances.**"
      ]
    },
    {
      "cell_type": "code",
      "execution_count": null,
      "id": "residential-tongue",
      "metadata": {
        "colab": {
          "base_uri": "https://localhost:8080/",
          "height": 265
        },
        "id": "residential-tongue",
        "outputId": "6c700ceb-2d56-467c-9b67-124df1b37381"
      },
      "outputs": [
        {
          "output_type": "display_data",
          "data": {
            "image/png": "[encoded data removed]",
            "text/plain": [
              "<Figure size 432x288 with 1 Axes>"
            ]
          },
          "metadata": {
            "needs_background": "light"
          }
        }
      ],
      "source": [
        "### BEGIN Solution (do not delete this comment)\n",
        "forest = RandomForestRegressor(n_estimators = 10)\n",
        "forest.fit(X_train, y_train_log)\n",
        "plt.hist(forest.feature_importances_, bins=100);\n",
        "### END Solution (do not delete this comment)"
      ]
    },
    {
      "cell_type": "markdown",
      "id": "ethical-firmware",
      "metadata": {
        "id": "ethical-firmware"
      },
      "source": [
        "**1.1.7) print the names of the 20 most important features**"
      ]
    },
    {
      "cell_type": "code",
      "execution_count": null,
      "id": "amazing-marriage",
      "metadata": {
        "colab": {
          "base_uri": "https://localhost:8080/"
        },
        "id": "amazing-marriage",
        "outputId": "92aef83c-653f-4401-be8b-c368e59ef8b2"
      },
      "outputs": [
        {
          "output_type": "execute_result",
          "data": {
            "text/plain": [
              "Index(['full_sq', 'sport_count_3000', 'cafe_count_5000_price_2500',\n",
              "       'cafe_count_2000', 'office_sqm_5000', 'cafe_count_5000', 'micex_cbi_tr',\n",
              "       'additional_education_km', 'zd_vokzaly_avto_km', 'cafe_count_3000',\n",
              "       'brent', 'eurrub', 'big_church_km', 'floor', 'kindergarten_km',\n",
              "       'cafe_count_3000_price_1000', 'cemetery_km', 'shopping_centers_km',\n",
              "       'catering_km', 'workplaces_km'],\n",
              "      dtype='object')"
            ]
          },
          "metadata": {},
          "execution_count": 10
        }
      ],
      "source": [
        "### BEGIN Solution (do not delete this comment)\n",
        "feature_importances = pd.Series(forest.feature_importances_, index=X_train.columns)\n",
        "feature_importances.nlargest(20).index\n",
        "### END Solution (do not delete this comment)"
      ]
    },
    {
      "cell_type": "markdown",
      "id": "threaded-ivory",
      "metadata": {
        "id": "threaded-ivory"
      },
      "source": [
        "<br>"
      ]
    },
    {
      "cell_type": "markdown",
      "id": "little-toddler",
      "metadata": {
        "id": "little-toddler"
      },
      "source": [
        "### Subproblem 1.2. Training models on the most important features (1 point)"
      ]
    },
    {
      "cell_type": "markdown",
      "id": "vietnamese-patrick",
      "metadata": {
        "id": "vietnamese-patrick"
      },
      "source": [
        "In this subproblem, you will train several ML models on the found 20 most important features: train **Linear Regression**,  **Ridge regression**, **Random forest**,  **DecisionTree** and evaluate their performance using the Root Mean Squared Logarithmic Error (RMSLE) on both train/test sets. \n",
        "\n",
        "You will have to repeat the same actions in the next tasks too, so we recommend to implement\n",
        "a dedicated function for comparisons, which\n",
        "1. on input takes a training dataset `(X_train, y_train)` and a test sample `(X_test, y_test)`;\n",
        "2. it trains **all of the listed models** on the `(X_train, y_train)` sample;\n",
        "3. it computes and returns a table with the RMSLE score of each fitted model on the train and test datasets."
      ]
    },
    {
      "cell_type": "markdown",
      "id": "stupid-principle",
      "metadata": {
        "id": "stupid-principle"
      },
      "source": [
        "**1.2.1) Implement the function described above**"
      ]
    },
    {
      "cell_type": "code",
      "execution_count": null,
      "id": "paperback-uniform",
      "metadata": {
        "id": "paperback-uniform"
      },
      "outputs": [],
      "source": [
        "### BEGIN Solution (do not delete this comment)\n",
        "def train(X_train, y_train, X_test, y_test, models, important_features):\n",
        "    score_table = pd.DataFrame(columns = ['Methods', 'Train error', 'Test error'])\n",
        "    names = []\n",
        "    train_errors = []\n",
        "    test_errors = []\n",
        "    for model in models:\n",
        "        model.fit(X_train[important_features], y_train)\n",
        "        names.append(model.__class__.__name__)\n",
        "        train_errors.append(msle(y_train, model.predict(X_train[important_features])))\n",
        "        test_errors.append(msle(y_test, model.predict(X_test[important_features])))\n",
        "    score_table['Methods'] = names\n",
        "    score_table['Train error'] = train_errors\n",
        "    score_table['Test error'] = test_errors\n",
        "    return score_table\n",
        "### END Solution (do not delete this comment)"
      ]
    },
    {
      "cell_type": "markdown",
      "id": "demographic-honolulu",
      "metadata": {
        "id": "demographic-honolulu"
      },
      "source": [
        "**1.2.2) Apply the implemented function to our dataset (use only the 20 most important features)**"
      ]
    },
    {
      "cell_type": "code",
      "execution_count": null,
      "id": "loved-bedroom",
      "metadata": {
        "colab": {
          "base_uri": "https://localhost:8080/",
          "height": 175
        },
        "id": "loved-bedroom",
        "outputId": "176dd8e5-afd9-4f4b-d640-d7012db7f110"
      },
      "outputs": [
        {
          "output_type": "execute_result",
          "data": {
            "text/html": [
              "\n",
              "  <div id=\"df-19593e24-b603-49a1-8475-5459d2cb8b70\">\n",
              "    <div class=\"colab-df-container\">\n",
              "      <div>\n",
              "<style scoped>\n",
              "    .dataframe tbody tr th:only-of-type {\n",
              "        vertical-align: middle;\n",
              "    }\n",
              "\n",
              "    .dataframe tbody tr th {\n",
              "        vertical-align: top;\n",
              "    }\n",
              "\n",
              "    .dataframe thead th {\n",
              "        text-align: right;\n",
              "    }\n",
              "</style>\n",
              "<table border=\"1\" class=\"dataframe\">\n",
              "  <thead>\n",
              "    <tr style=\"text-align: right;\">\n",
              "      <th></th>\n",
              "      <th>Methods</th>\n",
              "      <th>Train error</th>\n",
              "      <th>Test error</th>\n",
              "    </tr>\n",
              "  </thead>\n",
              "  <tbody>\n",
              "    <tr>\n",
              "      <th>0</th>\n",
              "      <td>LinearRegression</td>\n",
              "      <td>1.093992e-03</td>\n",
              "      <td>0.001093</td>\n",
              "    </tr>\n",
              "    <tr>\n",
              "      <th>1</th>\n",
              "      <td>Ridge</td>\n",
              "      <td>1.093992e-03</td>\n",
              "      <td>0.001093</td>\n",
              "    </tr>\n",
              "    <tr>\n",
              "      <th>2</th>\n",
              "      <td>RandomForestRegressor</td>\n",
              "      <td>1.261018e-04</td>\n",
              "      <td>0.000885</td>\n",
              "    </tr>\n",
              "    <tr>\n",
              "      <th>3</th>\n",
              "      <td>DecisionTreeRegressor</td>\n",
              "      <td>3.033660e-10</td>\n",
              "      <td>0.001795</td>\n",
              "    </tr>\n",
              "  </tbody>\n",
              "</table>\n",
              "</div>\n",
              "      <button class=\"colab-df-convert\" onclick=\"convertToInteractive('df-19593e24-b603-49a1-8475-5459d2cb8b70')\"\n",
              "              title=\"Convert this dataframe to an interactive table.\"\n",
              "              style=\"display:none;\">\n",
              "        \n",
              "  <svg xmlns=\"http://www.w3.org/2000/svg\" height=\"24px\"viewBox=\"0 0 24 24\"\n",
              "       width=\"24px\">\n",
              "    <path d=\"M0 0h24v24H0V0z\" fill=\"none\"/>\n",
              "    <path d=\"M18.56 5.44l.94 2.06.94-2.06 2.06-.94-2.06-.94-.94-2.06-.94 2.06-2.06.94zm-11 1L8.5 8.5l.94-2.06 2.06-.94-2.06-.94L8.5 2.5l-.94 2.06-2.06.94zm10 10l.94 2.06.94-2.06 2.06-.94-2.06-.94-.94-2.06-.94 2.06-2.06.94z\"/><path d=\"M17.41 7.96l-1.37-1.37c-.4-.4-.92-.59-1.43-.59-.52 0-1.04.2-1.43.59L10.3 9.45l-7.72 7.72c-.78.78-.78 2.05 0 2.83L4 21.41c.39.39.9.59 1.41.59.51 0 1.02-.2 1.41-.59l7.78-7.78 2.81-2.81c.8-.78.8-2.07 0-2.86zM5.41 20L4 18.59l7.72-7.72 1.47 1.35L5.41 20z\"/>\n",
              "  </svg>\n",
              "      </button>\n",
              "      \n",
              "  <style>\n",
              "    .colab-df-container {\n",
              "      display:flex;\n",
              "      flex-wrap:wrap;\n",
              "      gap: 12px;\n",
              "    }\n",
              "\n",
              "    .colab-df-convert {\n",
              "      background-color: #E8F0FE;\n",
              "      border: none;\n",
              "      border-radius: 50%;\n",
              "      cursor: pointer;\n",
              "      display: none;\n",
              "      fill: #1967D2;\n",
              "      height: 32px;\n",
              "      padding: 0 0 0 0;\n",
              "      width: 32px;\n",
              "    }\n",
              "\n",
              "    .colab-df-convert:hover {\n",
              "      background-color: #E2EBFA;\n",
              "      box-shadow: 0px 1px 2px rgba(60, 64, 67, 0.3), 0px 1px 3px 1px rgba(60, 64, 67, 0.15);\n",
              "      fill: #174EA6;\n",
              "    }\n",
              "\n",
              "    [theme=dark] .colab-df-convert {\n",
              "      background-color: #3B4455;\n",
              "      fill: #D2E3FC;\n",
              "    }\n",
              "\n",
              "    [theme=dark] .colab-df-convert:hover {\n",
              "      background-color: #434B5C;\n",
              "      box-shadow: 0px 1px 3px 1px rgba(0, 0, 0, 0.15);\n",
              "      filter: drop-shadow(0px 1px 2px rgba(0, 0, 0, 0.3));\n",
              "      fill: #FFFFFF;\n",
              "    }\n",
              "  </style>\n",
              "\n",
              "      <script>\n",
              "        const buttonEl =\n",
              "          document.querySelector('#df-19593e24-b603-49a1-8475-5459d2cb8b70 button.colab-df-convert');\n",
              "        buttonEl.style.display =\n",
              "          google.colab.kernel.accessAllowed ? 'block' : 'none';\n",
              "\n",
              "        async function convertToInteractive(key) {\n",
              "          const element = document.querySelector('#df-19593e24-b603-49a1-8475-5459d2cb8b70');\n",
              "          const dataTable =\n",
              "            await google.colab.kernel.invokeFunction('convertToInteractive',\n",
              "                                                     [key], {});\n",
              "          if (!dataTable) return;\n",
              "\n",
              "          const docLinkHtml = 'Like what you see? Visit the ' +\n",
              "            '<a target=\"_blank\" href=https://colab.research.google.com/notebooks/data_table.ipynb>data table notebook</a>'\n",
              "            + ' to learn more about interactive tables.';\n",
              "          element.innerHTML = '';\n",
              "          dataTable['output_type'] = 'display_data';\n",
              "          await google.colab.output.renderOutput(dataTable, element);\n",
              "          const docLink = document.createElement('div');\n",
              "          docLink.innerHTML = docLinkHtml;\n",
              "          element.appendChild(docLink);\n",
              "        }\n",
              "      </script>\n",
              "    </div>\n",
              "  </div>\n",
              "  "
            ],
            "text/plain": [
              "                 Methods   Train error  Test error\n",
              "0       LinearRegression  1.093992e-03    0.001093\n",
              "1                  Ridge  1.093992e-03    0.001093\n",
              "2  RandomForestRegressor  1.261018e-04    0.000885\n",
              "3  DecisionTreeRegressor  3.033660e-10    0.001795"
            ]
          },
          "metadata": {},
          "execution_count": 12
        }
      ],
      "source": [
        "### BEGIN Solution\n",
        "\n",
        "models = [LinearRegression(), Ridge(), RandomForestRegressor(), DecisionTreeRegressor()]\n",
        "train(X_train, y_train_log, X_test, y_test_log, models, feature_importances.nlargest(20).index)\n",
        "\n",
        "### END Solution"
      ]
    },
    {
      "cell_type": "markdown",
      "id": "6lSOGA4-7RSx",
      "metadata": {
        "id": "6lSOGA4-7RSx"
      },
      "source": [
        "<br>"
      ]
    },
    {
      "cell_type": "markdown",
      "id": "stock-jewel",
      "metadata": {
        "id": "stock-jewel"
      },
      "source": [
        "### Subproblem 1.3. Forward-backward methods (1 point)\n",
        "In the subproblems above, we have relied on the feature importances found by the random forest method. The main goal of this subproblem is to find feature importances by applying the forward-backward methods: the main idea is to add or remove features and compute how this removal influences the value of the loss function or some other criteria.\n",
        "\n",
        "The decision about adding or deleting a feature may be made based on:\n",
        "\n",
        "- AIC\n",
        "- BIC\n",
        "- validation error\n",
        "- Mallows $C_p$\n",
        "- sklearn's `estimator.score()`"
      ]
    },
    {
      "cell_type": "markdown",
      "id": "southern-closer",
      "metadata": {
        "id": "southern-closer"
      },
      "source": [
        "In subtasks, 1.3.1 - 1.3.3, implement the following greedy feature selection algorithm with early stopping using the mean of the RMSLE scores achieved on the 3-fold cross-validation. Please bear in mind that **the lower** RMSLE (`mean_squared_log_error`) is, **the higher the model \"quality\" is** and look up `cross_val_score(...)` peculiarities in [scikit's manual](https://scikit-learn.org/stable/documentation.html) for more information.\n",
        "\n",
        "```python\n",
        "# Initialize with an empty list of features.\n",
        "list_of_best_features = []\n",
        "\n",
        "while round < n_rounds:\n",
        "    round = round + 1\n",
        "    \n",
        "    if no_more_features:\n",
        "        # end loop\n",
        "\n",
        "    # Iterate over currently *unused* features and use $k$-fold \n",
        "    # . `cross_val_score` to measure model \"quality\".\n",
        "    compute_quality_with_each_new_unused_feature(...)\n",
        "\n",
        "    # **Add** the feature that gives the highest \"quality\" of the model.\n",
        "    pick_and_add_the_best_feature(...)\n",
        "\n",
        "    if model_quality_has_increased_since_last_round:\n",
        "        round = 0\n",
        "\n",
        "return list_of_best_features\n",
        "```"
      ]
    },
    {
      "cell_type": "markdown",
      "id": "suffering-italy",
      "metadata": {
        "id": "suffering-italy"
      },
      "source": [
        "**1.3.1) In the cell below, you have to implement a function that would iterate over a list of features and use $k$-fold `cross_val_score` to measure the model's \"quality\".** "
      ]
    },
    {
      "cell_type": "code",
      "execution_count": null,
      "id": "caroline-state",
      "metadata": {
        "id": "caroline-state"
      },
      "outputs": [],
      "source": [
        "from sklearn.metrics import make_scorer\n",
        "\n",
        "def selection_step(model, X, y, used_features=(), cv=3):\n",
        "    \"\"\"\n",
        "    Parameters\n",
        "    ==========\n",
        "        X: ndarray - training inputs\n",
        "        y: ndarray - training targets\n",
        "        used_features: - list of features\n",
        "        cv: int - number of folds\n",
        "\n",
        "    Returns\n",
        "    =======\n",
        "        scores - dictionary of scores\n",
        "    \"\"\"\n",
        "    \n",
        "    scores = {}\n",
        "    \n",
        "    ### BEGIN Solution\n",
        "    features = X.columns\n",
        "    for feature in features:\n",
        "        if feature not in used_features:\n",
        "            new_features = used_features + [feature]\n",
        "            scores[feature] = np.abs(np.mean(cross_val_score(model, X[new_features], y, scoring= 'neg_mean_squared_log_error', cv=cv)))\n",
        "\n",
        "    ### END Solution\n",
        "\n",
        "    return scores"
      ]
    },
    {
      "cell_type": "markdown",
      "id": "laughing-patio",
      "metadata": {
        "id": "laughing-patio"
      },
      "source": [
        "**1.3.2) Implement a forward greedy feature selection function (the one described in the pseudocode in subtask 1 above) that would**\n",
        "\n",
        "**- compute the model's \"quality\" over the currently *unused* features**\n",
        "\n",
        "**- find the feature, which has given the best score and add it to the list of the currently *used* features**\n",
        "\n",
        "**- if the model's quality has increased since the last round, add this feature to the list of the best features and  print the best score and the current best features list**\n",
        "\n",
        "**Do not forget to implement the early stopping.**"
      ]
    },
    {
      "cell_type": "code",
      "execution_count": null,
      "id": "pressed-worse",
      "metadata": {
        "id": "pressed-worse"
      },
      "outputs": [],
      "source": [
        "def forward_steps(X, y, n_rounds, model):\n",
        "    \"\"\"\n",
        "    Parameters\n",
        "    ==========\n",
        "        X: ndarray - training inputs\n",
        "        y: ndarray - training targets\n",
        "        n_rounds: int - early stop when score doesn't increase n_rounds\n",
        "        model: sklearn model\n",
        "\n",
        "    Returns\n",
        "    =======\n",
        "        feat_best_list - list of features\n",
        "    \"\"\"\n",
        "    \n",
        "    feat_best_list = []\n",
        "    non_used_features = []\n",
        "\n",
        "    ### BEGIN Solution\n",
        "    current_round = 0\n",
        "    current_rmsle = 1e10\n",
        "    while current_round < n_rounds:\n",
        "        if len(X.columns) == len(feat_best_list) + len(non_used_features):\n",
        "            break\n",
        "        else:\n",
        "            current_score = selection_step(model, X, y, feat_best_list+non_used_features, cv=3)\n",
        "            best_feature = min(current_score, key= current_score.get)\n",
        "            best_value = current_score[best_feature]\n",
        "            if best_value <= current_rmsle:\n",
        "                current_rmsle = best_value\n",
        "                feat_best_list.append(best_feature)\n",
        "                current_round = 0\n",
        "            else:\n",
        "                current_round +=1\n",
        "                non_used_features.append(best_feature)\n",
        "\n",
        "\n",
        "    ### END Solution\n",
        "    \n",
        "    return feat_best_list\n"
      ]
    },
    {
      "cell_type": "markdown",
      "id": "geographic-holly",
      "metadata": {
        "id": "geographic-holly"
      },
      "source": [
        "**1.3.3) Use the function implemented above + DecisionTreeRegressor to get the best features according to this algorithm. (HINT: Use ```n_rounds = 2```)**"
      ]
    },
    {
      "cell_type": "code",
      "execution_count": null,
      "id": "hazardous-retirement",
      "metadata": {
        "id": "hazardous-retirement",
        "colab": {
          "base_uri": "https://localhost:8080/"
        },
        "outputId": "2a9b2251-6482-495b-a4ac-41ff86f809ea"
      },
      "outputs": [
        {
          "output_type": "stream",
          "name": "stdout",
          "text": [
            "['full_sq', 'cafe_count_5000_price_1500', 'lodging_sqm_per_cap', 'cafe_count_3000_price_4000', 'cafe_count_5000_price_4000', 'build_count_frame', 'cafe_sum_500_max_price_avg', 'sub_area_Krylatskoe', 'water_1line_no', 'sub_area_Fili Davydkovo', 'mosque_count_3000', 'sub_area_Ljublino', 'sub_area_Presnenskoe', 'sub_area_Poselenie Rjazanovskoe', 'sub_area_Cheremushki', 'sub_area_Silino', 'cafe_count_1000_price_high', 'thermal_power_plant_raion_yes', 'sub_area_Poselenie Filimonkovskoe']\n"
          ]
        }
      ],
      "source": [
        "### BEGIN Solution\n",
        "features = forward_steps(X_train, y_train_log, n_rounds=2, model = DecisionTreeRegressor(max_depth = 6, random_state=123))\n",
        "print(features)\n",
        "### END Solution"
      ]
    },
    {
      "cell_type": "markdown",
      "id": "contrary-packet",
      "metadata": {
        "id": "contrary-packet"
      },
      "source": [
        "**1.3.4) Use Linear Regression, Ridge regression, Random forest and DecisionTree to get the RMSLE scores using these features. Remember the function you wrote earlier.**"
      ]
    },
    {
      "cell_type": "code",
      "execution_count": null,
      "id": "graduate-tooth",
      "metadata": {
        "colab": {
          "base_uri": "https://localhost:8080/",
          "height": 175
        },
        "id": "graduate-tooth",
        "outputId": "1cc73749-5bc9-431c-9f02-cac4ce63bd33"
      },
      "outputs": [
        {
          "output_type": "execute_result",
          "data": {
            "text/html": [
              "\n",
              "  <div id=\"df-acde3bff-cf02-48ac-aee1-1d652573a1f6\">\n",
              "    <div class=\"colab-df-container\">\n",
              "      <div>\n",
              "<style scoped>\n",
              "    .dataframe tbody tr th:only-of-type {\n",
              "        vertical-align: middle;\n",
              "    }\n",
              "\n",
              "    .dataframe tbody tr th {\n",
              "        vertical-align: top;\n",
              "    }\n",
              "\n",
              "    .dataframe thead th {\n",
              "        text-align: right;\n",
              "    }\n",
              "</style>\n",
              "<table border=\"1\" class=\"dataframe\">\n",
              "  <thead>\n",
              "    <tr style=\"text-align: right;\">\n",
              "      <th></th>\n",
              "      <th>Methods</th>\n",
              "      <th>Train error</th>\n",
              "      <th>Test error</th>\n",
              "    </tr>\n",
              "  </thead>\n",
              "  <tbody>\n",
              "    <tr>\n",
              "      <th>0</th>\n",
              "      <td>LinearRegression</td>\n",
              "      <td>0.001158</td>\n",
              "      <td>0.001157</td>\n",
              "    </tr>\n",
              "    <tr>\n",
              "      <th>1</th>\n",
              "      <td>Ridge</td>\n",
              "      <td>0.001158</td>\n",
              "      <td>0.001157</td>\n",
              "    </tr>\n",
              "    <tr>\n",
              "      <th>2</th>\n",
              "      <td>RandomForestRegressor</td>\n",
              "      <td>0.000165</td>\n",
              "      <td>0.000941</td>\n",
              "    </tr>\n",
              "    <tr>\n",
              "      <th>3</th>\n",
              "      <td>DecisionTreeRegressor</td>\n",
              "      <td>0.000041</td>\n",
              "      <td>0.001650</td>\n",
              "    </tr>\n",
              "  </tbody>\n",
              "</table>\n",
              "</div>\n",
              "      <button class=\"colab-df-convert\" onclick=\"convertToInteractive('df-acde3bff-cf02-48ac-aee1-1d652573a1f6')\"\n",
              "              title=\"Convert this dataframe to an interactive table.\"\n",
              "              style=\"display:none;\">\n",
              "        \n",
              "  <svg xmlns=\"http://www.w3.org/2000/svg\" height=\"24px\"viewBox=\"0 0 24 24\"\n",
              "       width=\"24px\">\n",
              "    <path d=\"M0 0h24v24H0V0z\" fill=\"none\"/>\n",
              "    <path d=\"M18.56 5.44l.94 2.06.94-2.06 2.06-.94-2.06-.94-.94-2.06-.94 2.06-2.06.94zm-11 1L8.5 8.5l.94-2.06 2.06-.94-2.06-.94L8.5 2.5l-.94 2.06-2.06.94zm10 10l.94 2.06.94-2.06 2.06-.94-2.06-.94-.94-2.06-.94 2.06-2.06.94z\"/><path d=\"M17.41 7.96l-1.37-1.37c-.4-.4-.92-.59-1.43-.59-.52 0-1.04.2-1.43.59L10.3 9.45l-7.72 7.72c-.78.78-.78 2.05 0 2.83L4 21.41c.39.39.9.59 1.41.59.51 0 1.02-.2 1.41-.59l7.78-7.78 2.81-2.81c.8-.78.8-2.07 0-2.86zM5.41 20L4 18.59l7.72-7.72 1.47 1.35L5.41 20z\"/>\n",
              "  </svg>\n",
              "      </button>\n",
              "      \n",
              "  <style>\n",
              "    .colab-df-container {\n",
              "      display:flex;\n",
              "      flex-wrap:wrap;\n",
              "      gap: 12px;\n",
              "    }\n",
              "\n",
              "    .colab-df-convert {\n",
              "      background-color: #E8F0FE;\n",
              "      border: none;\n",
              "      border-radius: 50%;\n",
              "      cursor: pointer;\n",
              "      display: none;\n",
              "      fill: #1967D2;\n",
              "      height: 32px;\n",
              "      padding: 0 0 0 0;\n",
              "      width: 32px;\n",
              "    }\n",
              "\n",
              "    .colab-df-convert:hover {\n",
              "      background-color: #E2EBFA;\n",
              "      box-shadow: 0px 1px 2px rgba(60, 64, 67, 0.3), 0px 1px 3px 1px rgba(60, 64, 67, 0.15);\n",
              "      fill: #174EA6;\n",
              "    }\n",
              "\n",
              "    [theme=dark] .colab-df-convert {\n",
              "      background-color: #3B4455;\n",
              "      fill: #D2E3FC;\n",
              "    }\n",
              "\n",
              "    [theme=dark] .colab-df-convert:hover {\n",
              "      background-color: #434B5C;\n",
              "      box-shadow: 0px 1px 3px 1px rgba(0, 0, 0, 0.15);\n",
              "      filter: drop-shadow(0px 1px 2px rgba(0, 0, 0, 0.3));\n",
              "      fill: #FFFFFF;\n",
              "    }\n",
              "  </style>\n",
              "\n",
              "      <script>\n",
              "        const buttonEl =\n",
              "          document.querySelector('#df-acde3bff-cf02-48ac-aee1-1d652573a1f6 button.colab-df-convert');\n",
              "        buttonEl.style.display =\n",
              "          google.colab.kernel.accessAllowed ? 'block' : 'none';\n",
              "\n",
              "        async function convertToInteractive(key) {\n",
              "          const element = document.querySelector('#df-acde3bff-cf02-48ac-aee1-1d652573a1f6');\n",
              "          const dataTable =\n",
              "            await google.colab.kernel.invokeFunction('convertToInteractive',\n",
              "                                                     [key], {});\n",
              "          if (!dataTable) return;\n",
              "\n",
              "          const docLinkHtml = 'Like what you see? Visit the ' +\n",
              "            '<a target=\"_blank\" href=https://colab.research.google.com/notebooks/data_table.ipynb>data table notebook</a>'\n",
              "            + ' to learn more about interactive tables.';\n",
              "          element.innerHTML = '';\n",
              "          dataTable['output_type'] = 'display_data';\n",
              "          await google.colab.output.renderOutput(dataTable, element);\n",
              "          const docLink = document.createElement('div');\n",
              "          docLink.innerHTML = docLinkHtml;\n",
              "          element.appendChild(docLink);\n",
              "        }\n",
              "      </script>\n",
              "    </div>\n",
              "  </div>\n",
              "  "
            ],
            "text/plain": [
              "                 Methods  Train error  Test error\n",
              "0       LinearRegression     0.001158    0.001157\n",
              "1                  Ridge     0.001158    0.001157\n",
              "2  RandomForestRegressor     0.000165    0.000941\n",
              "3  DecisionTreeRegressor     0.000041    0.001650"
            ]
          },
          "metadata": {},
          "execution_count": 62
        }
      ],
      "source": [
        "### BEGIN Solution\n",
        "models = [LinearRegression(), Ridge(), RandomForestRegressor(), DecisionTreeRegressor()]\n",
        "train(X_train, y_train_log, X_test, y_test_log, models, features)\n",
        "### END Solution"
      ]
    },
    {
      "cell_type": "markdown",
      "id": "infinite-navigation",
      "metadata": {
        "id": "infinite-navigation"
      },
      "source": [
        "<br>"
      ]
    },
    {
      "cell_type": "markdown",
      "id": "individual-rendering",
      "metadata": {
        "id": "individual-rendering"
      },
      "source": [
        "## Task 2. Multi-Class Classification Strategies (1 point)\n",
        "In this task, you will deal with the multiclass classification problem for the Glass Classification Data. Let's load the dataset."
      ]
    },
    {
      "cell_type": "code",
      "execution_count": null,
      "id": "technical-trader",
      "metadata": {
        "colab": {
          "base_uri": "https://localhost:8080/",
          "height": 143
        },
        "id": "technical-trader",
        "outputId": "12ef0ee7-ae86-42de-ddcd-7e2ce5c8cc46"
      },
      "outputs": [
        {
          "output_type": "execute_result",
          "data": {
            "text/html": [
              "\n",
              "  <div id=\"df-3f231402-337e-4979-b84d-fa1a7a085411\">\n",
              "    <div class=\"colab-df-container\">\n",
              "      <div>\n",
              "<style scoped>\n",
              "    .dataframe tbody tr th:only-of-type {\n",
              "        vertical-align: middle;\n",
              "    }\n",
              "\n",
              "    .dataframe tbody tr th {\n",
              "        vertical-align: top;\n",
              "    }\n",
              "\n",
              "    .dataframe thead th {\n",
              "        text-align: right;\n",
              "    }\n",
              "</style>\n",
              "<table border=\"1\" class=\"dataframe\">\n",
              "  <thead>\n",
              "    <tr style=\"text-align: right;\">\n",
              "      <th></th>\n",
              "      <th>RI</th>\n",
              "      <th>Na</th>\n",
              "      <th>Mg</th>\n",
              "      <th>Al</th>\n",
              "      <th>Si</th>\n",
              "      <th>K</th>\n",
              "      <th>Ca</th>\n",
              "      <th>Ba</th>\n",
              "      <th>Fe</th>\n",
              "      <th>Type</th>\n",
              "    </tr>\n",
              "  </thead>\n",
              "  <tbody>\n",
              "    <tr>\n",
              "      <th>93</th>\n",
              "      <td>1.51590</td>\n",
              "      <td>13.24</td>\n",
              "      <td>3.34</td>\n",
              "      <td>1.47</td>\n",
              "      <td>73.10</td>\n",
              "      <td>0.39</td>\n",
              "      <td>8.22</td>\n",
              "      <td>0.0</td>\n",
              "      <td>0.0</td>\n",
              "      <td>2</td>\n",
              "    </tr>\n",
              "    <tr>\n",
              "      <th>187</th>\n",
              "      <td>1.52315</td>\n",
              "      <td>13.44</td>\n",
              "      <td>3.34</td>\n",
              "      <td>1.23</td>\n",
              "      <td>72.38</td>\n",
              "      <td>0.60</td>\n",
              "      <td>8.83</td>\n",
              "      <td>0.0</td>\n",
              "      <td>0.0</td>\n",
              "      <td>7</td>\n",
              "    </tr>\n",
              "    <tr>\n",
              "      <th>188</th>\n",
              "      <td>1.52247</td>\n",
              "      <td>14.86</td>\n",
              "      <td>2.20</td>\n",
              "      <td>2.06</td>\n",
              "      <td>70.26</td>\n",
              "      <td>0.76</td>\n",
              "      <td>9.76</td>\n",
              "      <td>0.0</td>\n",
              "      <td>0.0</td>\n",
              "      <td>7</td>\n",
              "    </tr>\n",
              "  </tbody>\n",
              "</table>\n",
              "</div>\n",
              "      <button class=\"colab-df-convert\" onclick=\"convertToInteractive('df-3f231402-337e-4979-b84d-fa1a7a085411')\"\n",
              "              title=\"Convert this dataframe to an interactive table.\"\n",
              "              style=\"display:none;\">\n",
              "        \n",
              "  <svg xmlns=\"http://www.w3.org/2000/svg\" height=\"24px\"viewBox=\"0 0 24 24\"\n",
              "       width=\"24px\">\n",
              "    <path d=\"M0 0h24v24H0V0z\" fill=\"none\"/>\n",
              "    <path d=\"M18.56 5.44l.94 2.06.94-2.06 2.06-.94-2.06-.94-.94-2.06-.94 2.06-2.06.94zm-11 1L8.5 8.5l.94-2.06 2.06-.94-2.06-.94L8.5 2.5l-.94 2.06-2.06.94zm10 10l.94 2.06.94-2.06 2.06-.94-2.06-.94-.94-2.06-.94 2.06-2.06.94z\"/><path d=\"M17.41 7.96l-1.37-1.37c-.4-.4-.92-.59-1.43-.59-.52 0-1.04.2-1.43.59L10.3 9.45l-7.72 7.72c-.78.78-.78 2.05 0 2.83L4 21.41c.39.39.9.59 1.41.59.51 0 1.02-.2 1.41-.59l7.78-7.78 2.81-2.81c.8-.78.8-2.07 0-2.86zM5.41 20L4 18.59l7.72-7.72 1.47 1.35L5.41 20z\"/>\n",
              "  </svg>\n",
              "      </button>\n",
              "      \n",
              "  <style>\n",
              "    .colab-df-container {\n",
              "      display:flex;\n",
              "      flex-wrap:wrap;\n",
              "      gap: 12px;\n",
              "    }\n",
              "\n",
              "    .colab-df-convert {\n",
              "      background-color: #E8F0FE;\n",
              "      border: none;\n",
              "      border-radius: 50%;\n",
              "      cursor: pointer;\n",
              "      display: none;\n",
              "      fill: #1967D2;\n",
              "      height: 32px;\n",
              "      padding: 0 0 0 0;\n",
              "      width: 32px;\n",
              "    }\n",
              "\n",
              "    .colab-df-convert:hover {\n",
              "      background-color: #E2EBFA;\n",
              "      box-shadow: 0px 1px 2px rgba(60, 64, 67, 0.3), 0px 1px 3px 1px rgba(60, 64, 67, 0.15);\n",
              "      fill: #174EA6;\n",
              "    }\n",
              "\n",
              "    [theme=dark] .colab-df-convert {\n",
              "      background-color: #3B4455;\n",
              "      fill: #D2E3FC;\n",
              "    }\n",
              "\n",
              "    [theme=dark] .colab-df-convert:hover {\n",
              "      background-color: #434B5C;\n",
              "      box-shadow: 0px 1px 3px 1px rgba(0, 0, 0, 0.15);\n",
              "      filter: drop-shadow(0px 1px 2px rgba(0, 0, 0, 0.3));\n",
              "      fill: #FFFFFF;\n",
              "    }\n",
              "  </style>\n",
              "\n",
              "      <script>\n",
              "        const buttonEl =\n",
              "          document.querySelector('#df-3f231402-337e-4979-b84d-fa1a7a085411 button.colab-df-convert');\n",
              "        buttonEl.style.display =\n",
              "          google.colab.kernel.accessAllowed ? 'block' : 'none';\n",
              "\n",
              "        async function convertToInteractive(key) {\n",
              "          const element = document.querySelector('#df-3f231402-337e-4979-b84d-fa1a7a085411');\n",
              "          const dataTable =\n",
              "            await google.colab.kernel.invokeFunction('convertToInteractive',\n",
              "                                                     [key], {});\n",
              "          if (!dataTable) return;\n",
              "\n",
              "          const docLinkHtml = 'Like what you see? Visit the ' +\n",
              "            '<a target=\"_blank\" href=https://colab.research.google.com/notebooks/data_table.ipynb>data table notebook</a>'\n",
              "            + ' to learn more about interactive tables.';\n",
              "          element.innerHTML = '';\n",
              "          dataTable['output_type'] = 'display_data';\n",
              "          await google.colab.output.renderOutput(dataTable, element);\n",
              "          const docLink = document.createElement('div');\n",
              "          docLink.innerHTML = docLinkHtml;\n",
              "          element.appendChild(docLink);\n",
              "        }\n",
              "      </script>\n",
              "    </div>\n",
              "  </div>\n",
              "  "
            ],
            "text/plain": [
              "          RI     Na    Mg    Al     Si     K    Ca   Ba   Fe  Type\n",
              "93   1.51590  13.24  3.34  1.47  73.10  0.39  8.22  0.0  0.0     2\n",
              "187  1.52315  13.44  3.34  1.23  72.38  0.60  8.83  0.0  0.0     7\n",
              "188  1.52247  14.86  2.20  2.06  70.26  0.76  9.76  0.0  0.0     7"
            ]
          },
          "metadata": {},
          "execution_count": 34
        }
      ],
      "source": [
        "data = pd.read_csv('glass.csv')\n",
        "X, y = data.drop('Type', axis=1), data.Type\n",
        "data.sample(3)"
      ]
    },
    {
      "cell_type": "markdown",
      "id": "flying-region",
      "metadata": {
        "id": "flying-region"
      },
      "source": [
        "The features of each glass object correspond to the fraction of the particular chemical element in the object. The target variable corresponds to the type of glass (6 classes).\n",
        "\n",
        "In this problem, you have to empirically compare the time complexity and performance of several multiclass labeling strategies for different algorithms. You must consider the following algorithms:\n",
        "* Single Decision Tree (depth 7)\n",
        "* Medium Random Forest (100 trees of depth 3)\n",
        "* KNearestNeighbors (5 neighbors)\n",
        "* Logistic Regression\n",
        "\n",
        "Note that all these algorithms by default support **multiclass labeling**. Nevertheless, we want you to compare this approach with **OneVSRest** and **OneVSOne** approaches applied to these algorithms. More precisely, for every pair (algorithm, approach) you are to perform a 5-fold cross-validation on the data and output the validation score and the computation time in the **table** form. Please note that you also have to choose the metric to optimize during CV (e.g. accuracy, balanced accuracy) on your own. \n",
        "\n",
        "After that, you are to answer the following questions:\n",
        "* Which metric did you choose to optimize during cross-validation and why? Explain\n",
        "* For which algorithms the usage of OneVSRest/OneVSOne approach provides significantly better performance without a significant increase in computation time?"
      ]
    },
    {
      "cell_type": "code",
      "execution_count": null,
      "id": "authentic-slope",
      "metadata": {
        "colab": {
          "base_uri": "https://localhost:8080/",
          "height": 305
        },
        "id": "authentic-slope",
        "outputId": "5b38040d-bf28-459d-a245-fc17a4bc1675"
      },
      "outputs": [
        {
          "output_type": "stream",
          "name": "stdout",
          "text": [
            "Cross Validation Scores\n"
          ]
        },
        {
          "output_type": "display_data",
          "data": {
            "text/html": [
              "\n",
              "  <div id=\"df-d7c8fa66-1a6d-4bd8-a046-436f837d0d38\">\n",
              "    <div class=\"colab-df-container\">\n",
              "      <div>\n",
              "<style scoped>\n",
              "    .dataframe tbody tr th:only-of-type {\n",
              "        vertical-align: middle;\n",
              "    }\n",
              "\n",
              "    .dataframe tbody tr th {\n",
              "        vertical-align: top;\n",
              "    }\n",
              "\n",
              "    .dataframe thead th {\n",
              "        text-align: right;\n",
              "    }\n",
              "</style>\n",
              "<table border=\"1\" class=\"dataframe\">\n",
              "  <thead>\n",
              "    <tr style=\"text-align: right;\">\n",
              "      <th></th>\n",
              "      <th>Logistic</th>\n",
              "      <th>Random Forest</th>\n",
              "      <th>K Nearest Neighbors</th>\n",
              "      <th>Decision Tree</th>\n",
              "    </tr>\n",
              "  </thead>\n",
              "  <tbody>\n",
              "    <tr>\n",
              "      <th>Multiclass</th>\n",
              "      <td>0.445040</td>\n",
              "      <td>0.673413</td>\n",
              "      <td>0.551071</td>\n",
              "      <td>0.510516</td>\n",
              "    </tr>\n",
              "    <tr>\n",
              "      <th>OneVsRest</th>\n",
              "      <td>0.385298</td>\n",
              "      <td>0.663651</td>\n",
              "      <td>0.575159</td>\n",
              "      <td>0.495476</td>\n",
              "    </tr>\n",
              "    <tr>\n",
              "      <th>OneVsOne</th>\n",
              "      <td>0.436925</td>\n",
              "      <td>0.585079</td>\n",
              "      <td>0.554921</td>\n",
              "      <td>0.577837</td>\n",
              "    </tr>\n",
              "  </tbody>\n",
              "</table>\n",
              "</div>\n",
              "      <button class=\"colab-df-convert\" onclick=\"convertToInteractive('df-d7c8fa66-1a6d-4bd8-a046-436f837d0d38')\"\n",
              "              title=\"Convert this dataframe to an interactive table.\"\n",
              "              style=\"display:none;\">\n",
              "        \n",
              "  <svg xmlns=\"http://www.w3.org/2000/svg\" height=\"24px\"viewBox=\"0 0 24 24\"\n",
              "       width=\"24px\">\n",
              "    <path d=\"M0 0h24v24H0V0z\" fill=\"none\"/>\n",
              "    <path d=\"M18.56 5.44l.94 2.06.94-2.06 2.06-.94-2.06-.94-.94-2.06-.94 2.06-2.06.94zm-11 1L8.5 8.5l.94-2.06 2.06-.94-2.06-.94L8.5 2.5l-.94 2.06-2.06.94zm10 10l.94 2.06.94-2.06 2.06-.94-2.06-.94-.94-2.06-.94 2.06-2.06.94z\"/><path d=\"M17.41 7.96l-1.37-1.37c-.4-.4-.92-.59-1.43-.59-.52 0-1.04.2-1.43.59L10.3 9.45l-7.72 7.72c-.78.78-.78 2.05 0 2.83L4 21.41c.39.39.9.59 1.41.59.51 0 1.02-.2 1.41-.59l7.78-7.78 2.81-2.81c.8-.78.8-2.07 0-2.86zM5.41 20L4 18.59l7.72-7.72 1.47 1.35L5.41 20z\"/>\n",
              "  </svg>\n",
              "      </button>\n",
              "      \n",
              "  <style>\n",
              "    .colab-df-container {\n",
              "      display:flex;\n",
              "      flex-wrap:wrap;\n",
              "      gap: 12px;\n",
              "    }\n",
              "\n",
              "    .colab-df-convert {\n",
              "      background-color: #E8F0FE;\n",
              "      border: none;\n",
              "      border-radius: 50%;\n",
              "      cursor: pointer;\n",
              "      display: none;\n",
              "      fill: #1967D2;\n",
              "      height: 32px;\n",
              "      padding: 0 0 0 0;\n",
              "      width: 32px;\n",
              "    }\n",
              "\n",
              "    .colab-df-convert:hover {\n",
              "      background-color: #E2EBFA;\n",
              "      box-shadow: 0px 1px 2px rgba(60, 64, 67, 0.3), 0px 1px 3px 1px rgba(60, 64, 67, 0.15);\n",
              "      fill: #174EA6;\n",
              "    }\n",
              "\n",
              "    [theme=dark] .colab-df-convert {\n",
              "      background-color: #3B4455;\n",
              "      fill: #D2E3FC;\n",
              "    }\n",
              "\n",
              "    [theme=dark] .colab-df-convert:hover {\n",
              "      background-color: #434B5C;\n",
              "      box-shadow: 0px 1px 3px 1px rgba(0, 0, 0, 0.15);\n",
              "      filter: drop-shadow(0px 1px 2px rgba(0, 0, 0, 0.3));\n",
              "      fill: #FFFFFF;\n",
              "    }\n",
              "  </style>\n",
              "\n",
              "      <script>\n",
              "        const buttonEl =\n",
              "          document.querySelector('#df-d7c8fa66-1a6d-4bd8-a046-436f837d0d38 button.colab-df-convert');\n",
              "        buttonEl.style.display =\n",
              "          google.colab.kernel.accessAllowed ? 'block' : 'none';\n",
              "\n",
              "        async function convertToInteractive(key) {\n",
              "          const element = document.querySelector('#df-d7c8fa66-1a6d-4bd8-a046-436f837d0d38');\n",
              "          const dataTable =\n",
              "            await google.colab.kernel.invokeFunction('convertToInteractive',\n",
              "                                                     [key], {});\n",
              "          if (!dataTable) return;\n",
              "\n",
              "          const docLinkHtml = 'Like what you see? Visit the ' +\n",
              "            '<a target=\"_blank\" href=https://colab.research.google.com/notebooks/data_table.ipynb>data table notebook</a>'\n",
              "            + ' to learn more about interactive tables.';\n",
              "          element.innerHTML = '';\n",
              "          dataTable['output_type'] = 'display_data';\n",
              "          await google.colab.output.renderOutput(dataTable, element);\n",
              "          const docLink = document.createElement('div');\n",
              "          docLink.innerHTML = docLinkHtml;\n",
              "          element.appendChild(docLink);\n",
              "        }\n",
              "      </script>\n",
              "    </div>\n",
              "  </div>\n",
              "  "
            ],
            "text/plain": [
              "            Logistic  Random Forest  K Nearest Neighbors  Decision Tree\n",
              "Multiclass  0.445040       0.673413             0.551071       0.510516\n",
              "OneVsRest   0.385298       0.663651             0.575159       0.495476\n",
              "OneVsOne    0.436925       0.585079             0.554921       0.577837"
            ]
          },
          "metadata": {}
        },
        {
          "output_type": "stream",
          "name": "stdout",
          "text": [
            "Training Duration (CV=5)\n"
          ]
        },
        {
          "output_type": "display_data",
          "data": {
            "text/html": [
              "\n",
              "  <div id=\"df-1dd87140-0ce0-4cc4-bf7c-617bcf550800\">\n",
              "    <div class=\"colab-df-container\">\n",
              "      <div>\n",
              "<style scoped>\n",
              "    .dataframe tbody tr th:only-of-type {\n",
              "        vertical-align: middle;\n",
              "    }\n",
              "\n",
              "    .dataframe tbody tr th {\n",
              "        vertical-align: top;\n",
              "    }\n",
              "\n",
              "    .dataframe thead th {\n",
              "        text-align: right;\n",
              "    }\n",
              "</style>\n",
              "<table border=\"1\" class=\"dataframe\">\n",
              "  <thead>\n",
              "    <tr style=\"text-align: right;\">\n",
              "      <th></th>\n",
              "      <th>Logistic</th>\n",
              "      <th>Random Forest</th>\n",
              "      <th>K Nearest Neighbors</th>\n",
              "      <th>Decision Tree</th>\n",
              "    </tr>\n",
              "  </thead>\n",
              "  <tbody>\n",
              "    <tr>\n",
              "      <th>Multiclass</th>\n",
              "      <td>0.305100</td>\n",
              "      <td>0.812127</td>\n",
              "      <td>0.030657</td>\n",
              "      <td>0.024276</td>\n",
              "    </tr>\n",
              "    <tr>\n",
              "      <th>OneVsRest</th>\n",
              "      <td>1.232030</td>\n",
              "      <td>4.506305</td>\n",
              "      <td>0.123777</td>\n",
              "      <td>0.114380</td>\n",
              "    </tr>\n",
              "    <tr>\n",
              "      <th>OneVsOne</th>\n",
              "      <td>1.536448</td>\n",
              "      <td>11.314673</td>\n",
              "      <td>0.273796</td>\n",
              "      <td>0.095070</td>\n",
              "    </tr>\n",
              "  </tbody>\n",
              "</table>\n",
              "</div>\n",
              "      <button class=\"colab-df-convert\" onclick=\"convertToInteractive('df-1dd87140-0ce0-4cc4-bf7c-617bcf550800')\"\n",
              "              title=\"Convert this dataframe to an interactive table.\"\n",
              "              style=\"display:none;\">\n",
              "        \n",
              "  <svg xmlns=\"http://www.w3.org/2000/svg\" height=\"24px\"viewBox=\"0 0 24 24\"\n",
              "       width=\"24px\">\n",
              "    <path d=\"M0 0h24v24H0V0z\" fill=\"none\"/>\n",
              "    <path d=\"M18.56 5.44l.94 2.06.94-2.06 2.06-.94-2.06-.94-.94-2.06-.94 2.06-2.06.94zm-11 1L8.5 8.5l.94-2.06 2.06-.94-2.06-.94L8.5 2.5l-.94 2.06-2.06.94zm10 10l.94 2.06.94-2.06 2.06-.94-2.06-.94-.94-2.06-.94 2.06-2.06.94z\"/><path d=\"M17.41 7.96l-1.37-1.37c-.4-.4-.92-.59-1.43-.59-.52 0-1.04.2-1.43.59L10.3 9.45l-7.72 7.72c-.78.78-.78 2.05 0 2.83L4 21.41c.39.39.9.59 1.41.59.51 0 1.02-.2 1.41-.59l7.78-7.78 2.81-2.81c.8-.78.8-2.07 0-2.86zM5.41 20L4 18.59l7.72-7.72 1.47 1.35L5.41 20z\"/>\n",
              "  </svg>\n",
              "      </button>\n",
              "      \n",
              "  <style>\n",
              "    .colab-df-container {\n",
              "      display:flex;\n",
              "      flex-wrap:wrap;\n",
              "      gap: 12px;\n",
              "    }\n",
              "\n",
              "    .colab-df-convert {\n",
              "      background-color: #E8F0FE;\n",
              "      border: none;\n",
              "      border-radius: 50%;\n",
              "      cursor: pointer;\n",
              "      display: none;\n",
              "      fill: #1967D2;\n",
              "      height: 32px;\n",
              "      padding: 0 0 0 0;\n",
              "      width: 32px;\n",
              "    }\n",
              "\n",
              "    .colab-df-convert:hover {\n",
              "      background-color: #E2EBFA;\n",
              "      box-shadow: 0px 1px 2px rgba(60, 64, 67, 0.3), 0px 1px 3px 1px rgba(60, 64, 67, 0.15);\n",
              "      fill: #174EA6;\n",
              "    }\n",
              "\n",
              "    [theme=dark] .colab-df-convert {\n",
              "      background-color: #3B4455;\n",
              "      fill: #D2E3FC;\n",
              "    }\n",
              "\n",
              "    [theme=dark] .colab-df-convert:hover {\n",
              "      background-color: #434B5C;\n",
              "      box-shadow: 0px 1px 3px 1px rgba(0, 0, 0, 0.15);\n",
              "      filter: drop-shadow(0px 1px 2px rgba(0, 0, 0, 0.3));\n",
              "      fill: #FFFFFF;\n",
              "    }\n",
              "  </style>\n",
              "\n",
              "      <script>\n",
              "        const buttonEl =\n",
              "          document.querySelector('#df-1dd87140-0ce0-4cc4-bf7c-617bcf550800 button.colab-df-convert');\n",
              "        buttonEl.style.display =\n",
              "          google.colab.kernel.accessAllowed ? 'block' : 'none';\n",
              "\n",
              "        async function convertToInteractive(key) {\n",
              "          const element = document.querySelector('#df-1dd87140-0ce0-4cc4-bf7c-617bcf550800');\n",
              "          const dataTable =\n",
              "            await google.colab.kernel.invokeFunction('convertToInteractive',\n",
              "                                                     [key], {});\n",
              "          if (!dataTable) return;\n",
              "\n",
              "          const docLinkHtml = 'Like what you see? Visit the ' +\n",
              "            '<a target=\"_blank\" href=https://colab.research.google.com/notebooks/data_table.ipynb>data table notebook</a>'\n",
              "            + ' to learn more about interactive tables.';\n",
              "          element.innerHTML = '';\n",
              "          dataTable['output_type'] = 'display_data';\n",
              "          await google.colab.output.renderOutput(dataTable, element);\n",
              "          const docLink = document.createElement('div');\n",
              "          docLink.innerHTML = docLinkHtml;\n",
              "          element.appendChild(docLink);\n",
              "        }\n",
              "      </script>\n",
              "    </div>\n",
              "  </div>\n",
              "  "
            ],
            "text/plain": [
              "            Logistic  Random Forest  K Nearest Neighbors  Decision Tree\n",
              "Multiclass  0.305100       0.812127             0.030657       0.024276\n",
              "OneVsRest   1.232030       4.506305             0.123777       0.114380\n",
              "OneVsOne    1.536448      11.314673             0.273796       0.095070"
            ]
          },
          "metadata": {}
        }
      ],
      "source": [
        "### BEGIN Solution (do not delete this comment)\n",
        "def train_multiclass(X, y, models=[LogisticRegression(), RandomForestClassifier(), KNeighborsClassifier(), DecisionTreeClassifier()]):\n",
        "\n",
        "\n",
        "    model_names = ['Logistic', 'Random Forest', 'K Nearest Neighbors', 'Decision Tree']\n",
        "\n",
        "    scores_table = pd.DataFrame(index=['Multiclass', 'OneVsRest', 'OneVsOne'], columns = model_names)\n",
        "\n",
        "    time_table = pd.DataFrame(index=['Multiclass', 'OneVsRest', 'OneVsOne'], columns = model_names)\n",
        "\n",
        "    \n",
        "    for ind, model in enumerate(models):\n",
        "        scores = []\n",
        "        times = []\n",
        "        '''Multiclass'''\n",
        "        start_time = time.time()\n",
        "        scores.append(np.mean(cross_val_score(model, X, y, scoring='balanced_accuracy', cv=5)))\n",
        "        times.append(time.time() - start_time)\n",
        "        '''OneVsREest'''\n",
        "        start_time = time.time()\n",
        "        scores.append(np.mean(cross_val_score(OVR(model), X, y, scoring='balanced_accuracy', cv=5)))\n",
        "        times.append(time.time()-start_time)\n",
        "        '''OveVsOne'''\n",
        "        start_time = time.time()\n",
        "        scores.append(np.mean(cross_val_score(OVO(model), X, y, scoring='balanced_accuracy', cv=5)))\n",
        "        times.append(time.time()-start_time)\n",
        "\n",
        "        scores_table[model_names[ind]] = scores\n",
        "        time_table[model_names[ind]] = times\n",
        "    \n",
        "    print('Cross Validation Scores')\n",
        "    display(scores_table)\n",
        "    print('Training Duration (CV=5)')\n",
        "    display(time_table)\n",
        "\n",
        "train_multiclass(X, y)\n",
        "### END Solution (do not delete this comment)"
      ]
    },
    {
      "cell_type": "markdown",
      "id": "married-preserve",
      "metadata": {
        "id": "married-preserve"
      },
      "source": [
        "**Which metric did you choose to optimize during cross validation and why? Explain**"
      ]
    },
    {
      "cell_type": "markdown",
      "id": "dutch-alfred",
      "metadata": {
        "id": "dutch-alfred"
      },
      "source": [
        "**Your text answer (do not delete this comment)**:\n",
        "\n",
        "I choose balanced accuracy because there are some imbalance in target: we can see here two big classes (76 and 70 values) and all other classes are at least two times smaller."
      ]
    },
    {
      "cell_type": "markdown",
      "id": "elect-jerusalem",
      "metadata": {
        "id": "elect-jerusalem"
      },
      "source": [
        "**For which algorithms the usage of OneVSRest/OneVSOne approach provides significantly better performance without a significant increase in computation time?**"
      ]
    },
    {
      "cell_type": "markdown",
      "id": "CH04Ord57RS4",
      "metadata": {
        "id": "CH04Ord57RS4"
      },
      "source": [
        "**Your text answer (do not delete this comment)**:\n",
        "\n",
        "OneVsOne approach provides significantly better performance for DecisionTree and computational times of this algorithm are both small. OneVsRest showed better performance in K Nearest Neighbors"
      ]
    },
    {
      "cell_type": "markdown",
      "id": "electric-matthew",
      "metadata": {
        "id": "electric-matthew"
      },
      "source": [
        "# Task 3. Stacking (2 points)"
      ]
    },
    {
      "cell_type": "markdown",
      "id": "third-liverpool",
      "metadata": {
        "id": "third-liverpool"
      },
      "source": [
        "Stacking is an ensembling approach, which combines several algorithms (base models) to get better results. This is achieved by **a)** training the base models (any ML models) on the initial train data (or parts of the train data, see the paragraph below), **b)** training the meta-model (also an ML model) on the predictions of those base models.\n",
        "\n",
        "One of the main problems of stacking is overfitting. To avoid it, when evaluating the performance of the meta-model on the train set, the training data is divided into $ n $ folds, $ (n-1) $ of which are used for training the base models. The $ n $ -th fold is used for the overall prediction (calculating the meta-factor) in the following manner: the predictions on the $ n $ -th fold are made by the base models (already trained on the rest of the dataset), then these predictions on the $ n $ -th fold are fed as inputs to the meta-model.\n",
        "\n",
        "When evaluating the performance of the meta-model on the test set, there can be used various approaches$.^{[1]}$ For example, in order, to obtain meta-factors for the test data, the base classifiers can be retrained on the entire training set, since the problem of overfitting does not arise here. In other words, if we want to calculate the factors for the test set, we can safely use the training set to train the base classifiers (once again, as it is said in the paragraph above, if we want to calculate factors for the training set, then it is necessary to ensure that the classifier does not predict for those objects on which it has been trained).  \n",
        "\n",
        "You can read more details about stacking [blockpost](https://blog.statsbot.co/ensemble-learning-d1dcd548e936), [kaggle ensemble guide](https://mlwave.com/kaggle-ensembling-guide/).\n",
        "\n",
        "P.S. Stacking and Blending are two similar approaches to combining classifiers (ensembling). The difference is that Stacking uses out-of-fold predictions for the train set, and Blending uses a validation set to train the next layer ([source](quora.com/What-are-examples-of-blending-and-stacking-in-Machine-Learning)). Because they are so similar you can use any of them. \n",
        "\n",
        "[1] http://www.machinelearning.ru/wiki/images/5/56/Guschin2015Stacking.pdf  "
      ]
    },
    {
      "cell_type": "markdown",
      "id": "recognized-guest",
      "metadata": {
        "id": "recognized-guest"
      },
      "source": [
        "**Your task will be:**\n",
        "\n",
        "* Complete the ```meta_classfier``` function\n",
        "* Choose 6 different base models (base models can be any models that you know, and can differ between each other by different hyperparameters, models of ml, features e.t.c) and train them.\n",
        "* Report individual accuracy on the test set for each of the models.\n",
        "* Train the metaclassifier (in this case, once again, it is just an ML model) on the original dataset's features, report score on test.\n",
        "* Train the metaclassifier on the base models using $n$-fold cross-validation, as described above. Report the training score of the meta-classifier on the $ n $-th fold. Retrain the base models on the whole training set. Report the test score (accuracy) of the meta-classifier in this case.\n",
        "* Does stacking help to gain a better score?"
      ]
    },
    {
      "cell_type": "markdown",
      "id": "incident-ceremony",
      "metadata": {
        "id": "incident-ceremony"
      },
      "source": [
        "For this task we will use the dataset fetch_covertype from [sklearn](https://scikit-learn.org/stable/modules/generated/sklearn.datasets.fetch_covtype.html#sklearn.datasets.fetch_covtype). Split it train-test - 60/40.\n",
        "More details about this dataset you can find [here](https://archive.ics.uci.edu/ml/datasets/Covertype)"
      ]
    },
    {
      "cell_type": "code",
      "execution_count": null,
      "id": "banner-input",
      "metadata": {
        "id": "banner-input"
      },
      "outputs": [],
      "source": [
        "from sklearn import datasets\n",
        "fc = sklearn.datasets.fetch_covtype()\n",
        "X_train, X_test, y_train, y_test = train_test_split(fc['data'], fc['target'], train_size=.6, random_state=123)"
      ]
    },
    {
      "cell_type": "markdown",
      "id": "collected-flash",
      "metadata": {
        "id": "collected-flash"
      },
      "source": [
        "Write meta classifier function."
      ]
    },
    {
      "cell_type": "code",
      "execution_count": null,
      "id": "brilliant-greensboro",
      "metadata": {
        "id": "brilliant-greensboro"
      },
      "outputs": [],
      "source": [
        "def meta_classifier(base_clfs, final_classifier, X_train, X_test, y_train, cv):\n",
        "    \"\"\"\n",
        "    Meta classifier prediction using stacking. \n",
        "    Input:\n",
        "    :param base_clfs: list,  base classifiers which will be stacked together.\n",
        "    :param final_classifier: estimator, a classifier which will be used to combine the base estimators. \n",
        "    :param X_train: numpy array or pandas table, train set.\n",
        "    :param X_test: numpy array or pandas table, target for train set.\n",
        "    :param X_train: numpy array or pandas table, test set.\n",
        "    :param cv: number of cross-validation folds.\n",
        "    \n",
        "    Output:\n",
        "    :param y_pred: numpy array or pandas table, prediction of meta classifier using stacking on test set.\n",
        "    :param final_classifier(optional): estimator, trained final_calssifier.\n",
        "    \n",
        "    \n",
        "    More details https://scikit-learn.org/stable/modules/generated/sklearn.ensemble.StackingClassifier.html\n",
        "    \n",
        "    \"\"\"\n",
        "    ### BEGIN Solution (do not delete this comment)\n",
        "    kfold = KFold(n_splits=cv)\n",
        "    meta_features = np.zeros(X_train.shape)\n",
        "    meta_target = np.zeros(X_test.shape)\n",
        "    for ind, clf in enumerate(base_clfs):\n",
        "        current_preds = np.zeros(X_train.shape[0], dtype='int')\n",
        "        for train_index, test_index in kfold.split(X_train):\n",
        "            X_train_, X_test_ = X_train[train_index], X_train[test_index]\n",
        "            y_train_, y_test_ = y_train[train_index], y_train[test_index]\n",
        "            clf.fit(X_train_, y_train_)\n",
        "            current_preds[test_index] = clf.predict(X_test_)\n",
        "            \n",
        "\n",
        "        meta_features[:,ind] = current_preds\n",
        "\n",
        "        clf.fit(X_train, y_train)\n",
        "        meta_target[:,ind]=clf.predict(X_test)\n",
        "\n",
        "    final_classifier.fit(meta_features, y_train)\n",
        "    return final_classifier.predict(meta_features), final_classifier.predict(meta_target), final_classifier\n",
        "    ### END Solution (do not delete this comment)"
      ]
    },
    {
      "cell_type": "markdown",
      "id": "vfZmdicwORxq",
      "metadata": {
        "id": "vfZmdicwORxq"
      },
      "source": [
        "### Subproblem 3.1 (1 point)"
      ]
    },
    {
      "cell_type": "markdown",
      "id": "incredible-wichita",
      "metadata": {
        "id": "incredible-wichita"
      },
      "source": [
        "**3.1.1) Chose 6 different base models (base models can be any models that you know,and can differ with each other by different hyperparameters,  models of ml, features e.t.c) and train them.**"
      ]
    },
    {
      "cell_type": "code",
      "execution_count": null,
      "id": "cleared-supply",
      "metadata": {
        "id": "cleared-supply"
      },
      "outputs": [],
      "source": [
        "### BEGIN Solution (do not delete this comment)\n",
        "lr = LogisticRegression()\n",
        "forest1 =  RandomForestClassifier(n_estimators=100)\n",
        "nb = GaussianNB()\n",
        "forest2 =  RandomForestClassifier(max_depth=6, n_estimators= 500, max_features='sqrt')\n",
        "tree =  DecisionTreeClassifier()\n",
        "extratree = ExtraTreesClassifier()\n",
        "\n",
        "models = [lr, forest1, nb, forest2, tree, extratree]\n",
        "\n",
        "for model in models:\n",
        "    model.fit(X_train, y_train)\n",
        "### END Solution (do not delete this comment)"
      ]
    },
    {
      "cell_type": "markdown",
      "id": "streaming-crowd",
      "metadata": {
        "id": "streaming-crowd"
      },
      "source": [
        "**3.1.2) Report individual scores on test set. As a score use accuracy.**"
      ]
    },
    {
      "cell_type": "code",
      "execution_count": null,
      "id": "standing-breakdown",
      "metadata": {
        "id": "standing-breakdown",
        "colab": {
          "base_uri": "https://localhost:8080/"
        },
        "outputId": "d3a39465-d5f9-443b-e22b-d3724b379763"
      },
      "outputs": [
        {
          "output_type": "stream",
          "name": "stdout",
          "text": [
            "LogisticRegression 0.6182181966825154\n",
            "RandomForestClassifier 0.9483703018437641\n",
            "GaussianNB 0.4577784471074202\n",
            "RandomForestClassifier 0.6840902734450636\n",
            "DecisionTreeClassifier 0.9301994363288225\n",
            "ExtraTreesClassifier 0.9470579376519438\n"
          ]
        }
      ],
      "source": [
        "### BEGIN Solution (do not delete this comment)\n",
        "\n",
        "for model in models:\n",
        "    preds = model.predict(X_test)\n",
        "    print(model.__class__.__name__, accuracy_score(y_test, preds))\n",
        "    \n",
        "### END Solution (do not delete this comment)"
      ]
    },
    {
      "cell_type": "markdown",
      "id": "8CsZdyGPOj6E",
      "metadata": {
        "id": "8CsZdyGPOj6E"
      },
      "source": [
        "### Subproblem 3.2 (1 point)"
      ]
    },
    {
      "cell_type": "markdown",
      "id": "adolescent-street",
      "metadata": {
        "id": "adolescent-street"
      },
      "source": [
        "**3.2.1) Train metaclassifier (in this case, once again, it is just an ML model) on original dataset's features. And report score on test.**"
      ]
    },
    {
      "cell_type": "code",
      "execution_count": null,
      "id": "lesbian-fields",
      "metadata": {
        "id": "lesbian-fields",
        "colab": {
          "base_uri": "https://localhost:8080/"
        },
        "outputId": "4eb3aa74-de54-418c-a576-32196b843e3d"
      },
      "outputs": [
        {
          "output_type": "stream",
          "name": "stdout",
          "text": [
            "0.7439642004259805\n"
          ]
        }
      ],
      "source": [
        "### BEGIN Solution (do not delete this comment)\n",
        "metaclassifier = xgb.XGBClassifier()\n",
        "metaclassifier.fit(X_train, y_train)\n",
        "preds = metaclassifier.predict(X_test)\n",
        "print(accuracy_score(y_test, preds))\n",
        "\n",
        "### END Solution (do not delete this comment)"
      ]
    },
    {
      "cell_type": "markdown",
      "id": "horizontal-wallace",
      "metadata": {
        "id": "horizontal-wallace"
      },
      "source": [
        "**3.2.2) Train the metaclassifier on the base models using $n$-fold cross-validation, as described above. Report the training score of the meta-classifier on the $ n $-th fold. Retrain the base models on the whole training set. Report the test score (accuracy) of the meta-classifier in this case.**"
      ]
    },
    {
      "cell_type": "code",
      "execution_count": null,
      "id": "renewable-concrete",
      "metadata": {
        "id": "renewable-concrete",
        "colab": {
          "base_uri": "https://localhost:8080/"
        },
        "outputId": "a778cb1b-470c-40f1-a4eb-4cc7c363cb0c"
      },
      "outputs": [
        {
          "output_type": "stream",
          "name": "stdout",
          "text": [
            "train accuracy:0.948053251942732\n"
          ]
        }
      ],
      "source": [
        "### BEGIN Solution (do not delete this comment)\n",
        "train_preds, test_preds, _ = meta_classifier(models, metaclassifier, X_train, X_test, y_train, cv=5)\n",
        "print(f'train accuracy:{accuracy_score(y_train, train_preds)}')\n",
        "### END Solution (do not delete this comment)"
      ]
    },
    {
      "cell_type": "markdown",
      "id": "printable-premium",
      "metadata": {
        "id": "printable-premium"
      },
      "source": [
        "**3.2.3) Report score(accuracy) on test.**"
      ]
    },
    {
      "cell_type": "code",
      "execution_count": null,
      "id": "auburn-easter",
      "metadata": {
        "id": "auburn-easter",
        "colab": {
          "base_uri": "https://localhost:8080/"
        },
        "outputId": "c57dbf30-9e64-4bd6-d462-25ce29ee93f8"
      },
      "outputs": [
        {
          "output_type": "execute_result",
          "data": {
            "text/plain": [
              "0.9521998235838299"
            ]
          },
          "metadata": {},
          "execution_count": 14
        }
      ],
      "source": [
        "### BEGIN Solution (do not delete this comment)\n",
        "accuracy_score(y_test, test_preds)\n",
        "### END Solution (do not delete this comment)"
      ]
    },
    {
      "cell_type": "markdown",
      "id": "premier-scout",
      "metadata": {
        "id": "premier-scout"
      },
      "source": [
        "**3.2.4) Does stacking helped to gain a better score?**"
      ]
    },
    {
      "cell_type": "markdown",
      "id": "vSV5hJFR7RS-",
      "metadata": {
        "id": "vSV5hJFR7RS-"
      },
      "source": [
        "**Your text answer (do not delete this comment)**:\n",
        "\n",
        "Yes, stacking helped gain a better score (0.95 vs 0.74)"
      ]
    }
  ],
  "metadata": {
    "colab": {
      "name": "Ruslan_Iskhakov_hw2_part1.ipynb",
      "provenance": [],
      "collapsed_sections": []
    },
    "kernelspec": {
      "display_name": "Python 3",
      "language": "python",
      "name": "python3"
    },
    "language_info": {
      "codemirror_mode": {
        "name": "ipython",
        "version": 3
      },
      "file_extension": ".py",
      "mimetype": "text/x-python",
      "name": "python",
      "nbconvert_exporter": "python",
      "pygments_lexer": "ipython3",
      "version": "3.7.9"
    }
  },
  "nbformat": 4,
  "nbformat_minor": 5
}